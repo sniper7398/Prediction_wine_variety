{
  "nbformat": 4,
  "nbformat_minor": 0,
  "metadata": {
    "colab": {
      "name": "Prediction_wine_variety.ipynb",
      "provenance": [],
      "toc_visible": true
    },
    "kernelspec": {
      "name": "python3",
      "display_name": "Python 3"
    }
  },
  "cells": [
    {
      "cell_type": "code",
      "metadata": {
        "id": "VlsmxfvRAUDq",
        "colab_type": "code",
        "outputId": "5b5f9325-3112-4aa8-ed50-664cf5555fe2",
        "colab": {
          "base_uri": "https://localhost:8080/",
          "height": 122
        }
      },
      "source": [
        "import pandas as pd\n",
        "import numpy as np\n",
        "import os\n",
        "from nltk.corpus import stopwords\n",
        "from keras.layers import Dense\n",
        "from keras.models import Sequential\n",
        "from sklearn.preprocessing import LabelEncoder\n",
        "import re\n",
        "import nltk\n",
        "nltk.download('stopwords')\n",
        "sw = stopwords.words('english')\n",
        "from sklearn.feature_extraction.text import TfidfVectorizer\n",
        "from sklearn.model_selection import train_test_split\n",
        "import matplotlib.pyplot as plt\n",
        "import seaborn as sns"
      ],
      "execution_count": 0,
      "outputs": [
        {
          "output_type": "stream",
          "text": [
            "Using TensorFlow backend.\n"
          ],
          "name": "stderr"
        },
        {
          "output_type": "stream",
          "text": [
            "[nltk_data] Downloading package stopwords to /root/nltk_data...\n",
            "[nltk_data]   Unzipping corpora/stopwords.zip.\n"
          ],
          "name": "stdout"
        },
        {
          "output_type": "stream",
          "text": [
            "/usr/local/lib/python3.6/dist-packages/statsmodels/tools/_testing.py:19: FutureWarning: pandas.util.testing is deprecated. Use the functions in the public API at pandas.testing instead.\n",
            "  import pandas.util.testing as tm\n"
          ],
          "name": "stderr"
        }
      ]
    },
    {
      "cell_type": "code",
      "metadata": {
        "id": "t3tGRjGhCTcv",
        "colab_type": "code",
        "colab": {}
      },
      "source": [
        "data = pd.read_csv('/content/train.csv')"
      ],
      "execution_count": 0,
      "outputs": []
    },
    {
      "cell_type": "code",
      "metadata": {
        "id": "5brCvivQEEJw",
        "colab_type": "code",
        "outputId": "3b964d80-ff78-4c44-fb74-00e21283b9c8",
        "colab": {
          "base_uri": "https://localhost:8080/",
          "height": 340
        }
      },
      "source": [
        "data.info()"
      ],
      "execution_count": 0,
      "outputs": [
        {
          "output_type": "stream",
          "text": [
            "<class 'pandas.core.frame.DataFrame'>\n",
            "RangeIndex: 82657 entries, 0 to 82656\n",
            "Data columns (total 12 columns):\n",
            " #   Column              Non-Null Count  Dtype  \n",
            "---  ------              --------------  -----  \n",
            " 0   user_name           63264 non-null  object \n",
            " 1   country             82622 non-null  object \n",
            " 2   review_title        82657 non-null  object \n",
            " 3   review_description  82657 non-null  object \n",
            " 4   designation         59010 non-null  object \n",
            " 5   points              82657 non-null  int64  \n",
            " 6   price               77088 non-null  float64\n",
            " 7   province            82622 non-null  object \n",
            " 8   region_1            69903 non-null  object \n",
            " 9   region_2            35949 non-null  object \n",
            " 10  winery              82657 non-null  object \n",
            " 11  variety             82657 non-null  object \n",
            "dtypes: float64(1), int64(1), object(10)\n",
            "memory usage: 7.6+ MB\n"
          ],
          "name": "stdout"
        }
      ]
    },
    {
      "cell_type": "code",
      "metadata": {
        "id": "tobr0jujpimV",
        "colab_type": "code",
        "outputId": "58767be6-d183-4454-a38c-f7d214baa870",
        "colab": {
          "base_uri": "https://localhost:8080/",
          "height": 306
        }
      },
      "source": [
        "data.head()"
      ],
      "execution_count": 0,
      "outputs": [
        {
          "output_type": "execute_result",
          "data": {
            "text/html": [
              "<div>\n",
              "<style scoped>\n",
              "    .dataframe tbody tr th:only-of-type {\n",
              "        vertical-align: middle;\n",
              "    }\n",
              "\n",
              "    .dataframe tbody tr th {\n",
              "        vertical-align: top;\n",
              "    }\n",
              "\n",
              "    .dataframe thead th {\n",
              "        text-align: right;\n",
              "    }\n",
              "</style>\n",
              "<table border=\"1\" class=\"dataframe\">\n",
              "  <thead>\n",
              "    <tr style=\"text-align: right;\">\n",
              "      <th></th>\n",
              "      <th>user_name</th>\n",
              "      <th>country</th>\n",
              "      <th>review_title</th>\n",
              "      <th>review_description</th>\n",
              "      <th>designation</th>\n",
              "      <th>points</th>\n",
              "      <th>price</th>\n",
              "      <th>province</th>\n",
              "      <th>region_1</th>\n",
              "      <th>region_2</th>\n",
              "      <th>winery</th>\n",
              "      <th>variety</th>\n",
              "    </tr>\n",
              "  </thead>\n",
              "  <tbody>\n",
              "    <tr>\n",
              "      <th>0</th>\n",
              "      <td>NaN</td>\n",
              "      <td>Australia</td>\n",
              "      <td>Andrew Peace 2007 Peace Family Vineyard Chardo...</td>\n",
              "      <td>Classic Chardonnay aromas of apple, pear and h...</td>\n",
              "      <td>Peace Family Vineyard</td>\n",
              "      <td>83</td>\n",
              "      <td>10.0</td>\n",
              "      <td>Australia Other</td>\n",
              "      <td>South Eastern Australia</td>\n",
              "      <td>NaN</td>\n",
              "      <td>Andrew Peace</td>\n",
              "      <td>Chardonnay</td>\n",
              "    </tr>\n",
              "    <tr>\n",
              "      <th>1</th>\n",
              "      <td>@wawinereport</td>\n",
              "      <td>US</td>\n",
              "      <td>North by Northwest 2014 Red (Columbia Valley (...</td>\n",
              "      <td>This wine is near equal parts Syrah and Merlot...</td>\n",
              "      <td>NaN</td>\n",
              "      <td>89</td>\n",
              "      <td>15.0</td>\n",
              "      <td>Washington</td>\n",
              "      <td>Columbia Valley (WA)</td>\n",
              "      <td>Columbia Valley</td>\n",
              "      <td>North by Northwest</td>\n",
              "      <td>Red Blend</td>\n",
              "    </tr>\n",
              "    <tr>\n",
              "      <th>2</th>\n",
              "      <td>NaN</td>\n",
              "      <td>Italy</td>\n",
              "      <td>Renato Ratti 2007 Conca  (Barolo)</td>\n",
              "      <td>Barolo Conca opens with inky dark concentratio...</td>\n",
              "      <td>Conca</td>\n",
              "      <td>94</td>\n",
              "      <td>80.0</td>\n",
              "      <td>Piedmont</td>\n",
              "      <td>Barolo</td>\n",
              "      <td>NaN</td>\n",
              "      <td>Renato Ratti</td>\n",
              "      <td>Nebbiolo</td>\n",
              "    </tr>\n",
              "    <tr>\n",
              "      <th>3</th>\n",
              "      <td>@vossroger</td>\n",
              "      <td>France</td>\n",
              "      <td>Domaine l'Ancienne Cure 2010 L'Abbaye White (B...</td>\n",
              "      <td>It's impressive what a small addition of Sauvi...</td>\n",
              "      <td>L'Abbaye</td>\n",
              "      <td>87</td>\n",
              "      <td>22.0</td>\n",
              "      <td>Southwest France</td>\n",
              "      <td>Bergerac Sec</td>\n",
              "      <td>NaN</td>\n",
              "      <td>Domaine l'Ancienne Cure</td>\n",
              "      <td>Bordeaux-style White Blend</td>\n",
              "    </tr>\n",
              "    <tr>\n",
              "      <th>4</th>\n",
              "      <td>@vossroger</td>\n",
              "      <td>France</td>\n",
              "      <td>Château du Cèdre 2012 Le Cèdre Vintage Malbec ...</td>\n",
              "      <td>This ripe, sweet wine is rich and full of drie...</td>\n",
              "      <td>Le Cèdre Vintage</td>\n",
              "      <td>88</td>\n",
              "      <td>33.0</td>\n",
              "      <td>France Other</td>\n",
              "      <td>Vin de Liqueur</td>\n",
              "      <td>NaN</td>\n",
              "      <td>Château du Cèdre</td>\n",
              "      <td>Malbec</td>\n",
              "    </tr>\n",
              "  </tbody>\n",
              "</table>\n",
              "</div>"
            ],
            "text/plain": [
              "       user_name  ...                     variety\n",
              "0            NaN  ...                  Chardonnay\n",
              "1  @wawinereport  ...                   Red Blend\n",
              "2            NaN  ...                    Nebbiolo\n",
              "3     @vossroger  ...  Bordeaux-style White Blend\n",
              "4     @vossroger  ...                      Malbec\n",
              "\n",
              "[5 rows x 12 columns]"
            ]
          },
          "metadata": {
            "tags": []
          },
          "execution_count": 4
        }
      ]
    },
    {
      "cell_type": "markdown",
      "metadata": {
        "id": "je60XIRWEYlZ",
        "colab_type": "text"
      },
      "source": [
        "# **Preprocessing**"
      ]
    },
    {
      "cell_type": "code",
      "metadata": {
        "id": "MfOsqtTGpql9",
        "colab_type": "code",
        "outputId": "205c859f-caad-4cf4-bf71-49af591f388f",
        "colab": {
          "base_uri": "https://localhost:8080/",
          "height": 606
        }
      },
      "source": [
        "data.dropna(axis=0)"
      ],
      "execution_count": 0,
      "outputs": [
        {
          "output_type": "execute_result",
          "data": {
            "text/html": [
              "<div>\n",
              "<style scoped>\n",
              "    .dataframe tbody tr th:only-of-type {\n",
              "        vertical-align: middle;\n",
              "    }\n",
              "\n",
              "    .dataframe tbody tr th {\n",
              "        vertical-align: top;\n",
              "    }\n",
              "\n",
              "    .dataframe thead th {\n",
              "        text-align: right;\n",
              "    }\n",
              "</style>\n",
              "<table border=\"1\" class=\"dataframe\">\n",
              "  <thead>\n",
              "    <tr style=\"text-align: right;\">\n",
              "      <th></th>\n",
              "      <th>user_name</th>\n",
              "      <th>country</th>\n",
              "      <th>review_title</th>\n",
              "      <th>review_description</th>\n",
              "      <th>designation</th>\n",
              "      <th>points</th>\n",
              "      <th>price</th>\n",
              "      <th>province</th>\n",
              "      <th>region_1</th>\n",
              "      <th>region_2</th>\n",
              "      <th>winery</th>\n",
              "      <th>variety</th>\n",
              "    </tr>\n",
              "  </thead>\n",
              "  <tbody>\n",
              "    <tr>\n",
              "      <th>6</th>\n",
              "      <td>@wawinereport</td>\n",
              "      <td>US</td>\n",
              "      <td>Gordon Estate 2012 Tradition Red (Columbia Val...</td>\n",
              "      <td>Half Syrah and half Cabernet Sauvignon, with 4...</td>\n",
              "      <td>Tradition</td>\n",
              "      <td>91</td>\n",
              "      <td>45.0</td>\n",
              "      <td>Washington</td>\n",
              "      <td>Columbia Valley (WA)</td>\n",
              "      <td>Columbia Valley</td>\n",
              "      <td>Gordon Estate</td>\n",
              "      <td>Red Blend</td>\n",
              "    </tr>\n",
              "    <tr>\n",
              "      <th>7</th>\n",
              "      <td>@vboone</td>\n",
              "      <td>US</td>\n",
              "      <td>Rock Wall 2014 Monte Rosso Reserve Zinfandel (...</td>\n",
              "      <td>High-toned red fruit stars in this wine, a nic...</td>\n",
              "      <td>Monte Rosso Reserve</td>\n",
              "      <td>90</td>\n",
              "      <td>50.0</td>\n",
              "      <td>California</td>\n",
              "      <td>Sonoma County</td>\n",
              "      <td>Sonoma</td>\n",
              "      <td>Rock Wall</td>\n",
              "      <td>Zinfandel</td>\n",
              "    </tr>\n",
              "    <tr>\n",
              "      <th>8</th>\n",
              "      <td>@paulgwine</td>\n",
              "      <td>US</td>\n",
              "      <td>Elizabeth Chambers 2014 Falcon Glen Vineyard P...</td>\n",
              "      <td>Displaying typical McMinnville AVA subtlety, t...</td>\n",
              "      <td>Falcon Glen Vineyard</td>\n",
              "      <td>91</td>\n",
              "      <td>48.0</td>\n",
              "      <td>Oregon</td>\n",
              "      <td>McMinnville</td>\n",
              "      <td>Willamette Valley</td>\n",
              "      <td>Elizabeth Chambers</td>\n",
              "      <td>Pinot Noir</td>\n",
              "    </tr>\n",
              "    <tr>\n",
              "      <th>10</th>\n",
              "      <td>@vboone</td>\n",
              "      <td>US</td>\n",
              "      <td>Cuvaison 2014 Estate Grown Sauvignon Blanc (Ca...</td>\n",
              "      <td>With an alluring bouquet of fresh-cut jasmine ...</td>\n",
              "      <td>Estate Grown</td>\n",
              "      <td>90</td>\n",
              "      <td>18.0</td>\n",
              "      <td>California</td>\n",
              "      <td>Carneros</td>\n",
              "      <td>Napa-Sonoma</td>\n",
              "      <td>Cuvaison</td>\n",
              "      <td>Sauvignon Blanc</td>\n",
              "    </tr>\n",
              "    <tr>\n",
              "      <th>34</th>\n",
              "      <td>@paulgwine</td>\n",
              "      <td>US</td>\n",
              "      <td>Durant 2013 Raven Chardonnay (Dundee Hills)</td>\n",
              "      <td>Peach pit, apple and pear fruit flavors combin...</td>\n",
              "      <td>Raven</td>\n",
              "      <td>92</td>\n",
              "      <td>25.0</td>\n",
              "      <td>Oregon</td>\n",
              "      <td>Dundee Hills</td>\n",
              "      <td>Willamette Valley</td>\n",
              "      <td>Durant</td>\n",
              "      <td>Chardonnay</td>\n",
              "    </tr>\n",
              "    <tr>\n",
              "      <th>...</th>\n",
              "      <td>...</td>\n",
              "      <td>...</td>\n",
              "      <td>...</td>\n",
              "      <td>...</td>\n",
              "      <td>...</td>\n",
              "      <td>...</td>\n",
              "      <td>...</td>\n",
              "      <td>...</td>\n",
              "      <td>...</td>\n",
              "      <td>...</td>\n",
              "      <td>...</td>\n",
              "      <td>...</td>\n",
              "    </tr>\n",
              "    <tr>\n",
              "      <th>82630</th>\n",
              "      <td>@vboone</td>\n",
              "      <td>US</td>\n",
              "      <td>Yorkville Cellars 2010 Randle Hill Vineyard Sa...</td>\n",
              "      <td>A glass of pretty aromatics, grapefruit and or...</td>\n",
              "      <td>Randle Hill Vineyard</td>\n",
              "      <td>88</td>\n",
              "      <td>18.0</td>\n",
              "      <td>California</td>\n",
              "      <td>Yorkville Highlands</td>\n",
              "      <td>North Coast</td>\n",
              "      <td>Yorkville Cellars</td>\n",
              "      <td>Sauvignon Blanc</td>\n",
              "    </tr>\n",
              "    <tr>\n",
              "      <th>82632</th>\n",
              "      <td>@vboone</td>\n",
              "      <td>US</td>\n",
              "      <td>un4seen 2009 Red blend Red (California)</td>\n",
              "      <td>Dark like a cave in color, this big red blend ...</td>\n",
              "      <td>Red blend</td>\n",
              "      <td>85</td>\n",
              "      <td>10.0</td>\n",
              "      <td>California</td>\n",
              "      <td>California</td>\n",
              "      <td>California Other</td>\n",
              "      <td>un4seen</td>\n",
              "      <td>Red Blend</td>\n",
              "    </tr>\n",
              "    <tr>\n",
              "      <th>82639</th>\n",
              "      <td>@paulgwine</td>\n",
              "      <td>US</td>\n",
              "      <td>Archery Summit 2012 Red Hills Estate Pinot Noi...</td>\n",
              "      <td>Showing a light whiff of funk, this seems a bi...</td>\n",
              "      <td>Red Hills Estate</td>\n",
              "      <td>92</td>\n",
              "      <td>85.0</td>\n",
              "      <td>Oregon</td>\n",
              "      <td>Dundee Hills</td>\n",
              "      <td>Willamette Valley</td>\n",
              "      <td>Archery Summit</td>\n",
              "      <td>Pinot Noir</td>\n",
              "    </tr>\n",
              "    <tr>\n",
              "      <th>82641</th>\n",
              "      <td>@gordone_cellars</td>\n",
              "      <td>US</td>\n",
              "      <td>The Withers Winery 2013 Mr. Burgess Red (El Do...</td>\n",
              "      <td>Imposing, concentrated and tannic, this Syrah-...</td>\n",
              "      <td>Mr. Burgess</td>\n",
              "      <td>92</td>\n",
              "      <td>36.0</td>\n",
              "      <td>California</td>\n",
              "      <td>El Dorado</td>\n",
              "      <td>Sierra Foothills</td>\n",
              "      <td>The Withers Winery</td>\n",
              "      <td>Rhône-style Red Blend</td>\n",
              "    </tr>\n",
              "    <tr>\n",
              "      <th>82642</th>\n",
              "      <td>@vboone</td>\n",
              "      <td>US</td>\n",
              "      <td>Peter Cellars 2013 Estate Rosé of Pinot Noir (...</td>\n",
              "      <td>Pinkish-gold in color, this is a faint, dry an...</td>\n",
              "      <td>Estate Rosé of</td>\n",
              "      <td>86</td>\n",
              "      <td>25.0</td>\n",
              "      <td>California</td>\n",
              "      <td>Carneros</td>\n",
              "      <td>Napa-Sonoma</td>\n",
              "      <td>Peter Cellars</td>\n",
              "      <td>Pinot Noir</td>\n",
              "    </tr>\n",
              "  </tbody>\n",
              "</table>\n",
              "<p>15986 rows × 12 columns</p>\n",
              "</div>"
            ],
            "text/plain": [
              "              user_name country  ...              winery                variety\n",
              "6         @wawinereport      US  ...       Gordon Estate              Red Blend\n",
              "7               @vboone      US  ...           Rock Wall              Zinfandel\n",
              "8           @paulgwine       US  ...  Elizabeth Chambers             Pinot Noir\n",
              "10              @vboone      US  ...            Cuvaison        Sauvignon Blanc\n",
              "34          @paulgwine       US  ...              Durant             Chardonnay\n",
              "...                 ...     ...  ...                 ...                    ...\n",
              "82630           @vboone      US  ...   Yorkville Cellars        Sauvignon Blanc\n",
              "82632           @vboone      US  ...             un4seen              Red Blend\n",
              "82639       @paulgwine       US  ...      Archery Summit             Pinot Noir\n",
              "82641  @gordone_cellars      US  ...  The Withers Winery  Rhône-style Red Blend\n",
              "82642           @vboone      US  ...       Peter Cellars             Pinot Noir\n",
              "\n",
              "[15986 rows x 12 columns]"
            ]
          },
          "metadata": {
            "tags": []
          },
          "execution_count": 7
        }
      ]
    },
    {
      "cell_type": "code",
      "metadata": {
        "id": "m6k_weWjEtsJ",
        "colab_type": "code",
        "colab": {}
      },
      "source": [
        "input_data = data['review_description']\n",
        "output_data = data['variety']"
      ],
      "execution_count": 0,
      "outputs": []
    },
    {
      "cell_type": "code",
      "metadata": {
        "id": "Me26dtHoif19",
        "colab_type": "code",
        "outputId": "6ac5bfb9-5d80-4b6d-c7cd-fcb6148b36ed",
        "colab": {
          "base_uri": "https://localhost:8080/",
          "height": 34
        }
      },
      "source": [
        "print ('There are %d varieties of wines in this dataset' % len(set(output_data)))\n"
      ],
      "execution_count": 0,
      "outputs": [
        {
          "output_type": "stream",
          "text": [
            "There are 28 varieties of wines in this dataset\n"
          ],
          "name": "stdout"
        }
      ]
    },
    {
      "cell_type": "markdown",
      "metadata": {
        "id": "gFStdBi-RYT3",
        "colab_type": "text"
      },
      "source": [
        "For Encoding our target feature that is \"variety\", we use labelEncoder.It will go from 0 to 27 as total no. of varities is 28.Also it will assign same value if there is any repetition."
      ]
    },
    {
      "cell_type": "code",
      "metadata": {
        "id": "I4uXWy96tAVr",
        "colab_type": "code",
        "outputId": "cd9fabbb-8803-4caa-a068-715ae72ea74c",
        "colab": {
          "base_uri": "https://localhost:8080/",
          "height": 34
        }
      },
      "source": [
        "labelEncoder = LabelEncoder()\n",
        "output_data = labelEncoder.fit_transform(output_data)\n",
        "output_data"
      ],
      "execution_count": 0,
      "outputs": [
        {
          "output_type": "execute_result",
          "data": {
            "text/plain": [
              "array([ 5, 17, 11, ...,  6,  0,  3])"
            ]
          },
          "metadata": {
            "tags": []
          },
          "execution_count": 35
        }
      ]
    },
    {
      "cell_type": "markdown",
      "metadata": {
        "id": "7nJf6Hb8umnN",
        "colab_type": "text"
      },
      "source": [
        "Cleaning Description data"
      ]
    },
    {
      "cell_type": "code",
      "metadata": {
        "id": "47YYeVFuuRKV",
        "colab_type": "code",
        "colab": {}
      },
      "source": [
        "input_data = input_data.str.lower() #Converting all letters to lower case"
      ],
      "execution_count": 0,
      "outputs": []
    },
    {
      "cell_type": "code",
      "metadata": {
        "id": "CSqd5lgJuw-q",
        "colab_type": "code",
        "colab": {}
      },
      "source": [
        "List = []\n",
        "for phase_word in input_data:\n",
        "    List.append(' '.join([re.sub('[0-9\\W_]', '', word) for word in phase_word.split() if not word in sw]))\n",
        "input_data = List"
      ],
      "execution_count": 0,
      "outputs": []
    },
    {
      "cell_type": "markdown",
      "metadata": {
        "id": "cOcoFA6rSTQ7",
        "colab_type": "text"
      },
      "source": [
        "I am using tfidf vectorizer for coverting our text data to numeric form for our model"
      ]
    },
    {
      "cell_type": "code",
      "metadata": {
        "id": "vRG1fo7pZACy",
        "colab_type": "code",
        "colab": {}
      },
      "source": [
        "vectorizer = TfidfVectorizer()\n",
        "input_data = vectorizer.fit_transform(input_data)"
      ],
      "execution_count": 0,
      "outputs": []
    },
    {
      "cell_type": "code",
      "metadata": {
        "id": "wpkmmjLxwjFy",
        "colab_type": "code",
        "colab": {}
      },
      "source": [
        "x_train, x_test, y_train, y_test = train_test_split(input_data, output_data, test_size=0.2)"
      ],
      "execution_count": 0,
      "outputs": []
    },
    {
      "cell_type": "code",
      "metadata": {
        "id": "-lCPi50kw4Sl",
        "colab_type": "code",
        "outputId": "ea1c6189-ab3b-467a-e1c7-7085ab9356b5",
        "colab": {
          "base_uri": "https://localhost:8080/",
          "height": 170
        }
      },
      "source": [
        "model = Sequential()\n",
        "model.add(Dense(200, activation='relu', input_dim=len(vectorizer.get_feature_names())))\n",
        "model.add(Dense(units=output_data.max()+1, activation='sigmoid'))\n",
        "model.compile(loss='sparse_categorical_crossentropy', optimizer='adam', metrics=['accuracy'])\n",
        "model.fit(x_train, y_train, epochs=4, verbose=1)"
      ],
      "execution_count": 0,
      "outputs": [
        {
          "output_type": "stream",
          "text": [
            "Epoch 1/4\n",
            "66125/66125 [==============================] - 183s 3ms/step - loss: 1.4127 - accuracy: 0.5857\n",
            "Epoch 2/4\n",
            "66125/66125 [==============================] - 183s 3ms/step - loss: 0.6830 - accuracy: 0.7930\n",
            "Epoch 3/4\n",
            "66125/66125 [==============================] - 183s 3ms/step - loss: 0.4619 - accuracy: 0.8616\n",
            "Epoch 4/4\n",
            "66125/66125 [==============================] - 182s 3ms/step - loss: 0.3339 - accuracy: 0.9009\n"
          ],
          "name": "stdout"
        },
        {
          "output_type": "execute_result",
          "data": {
            "text/plain": [
              "<keras.callbacks.callbacks.History at 0x7f67dcc0ff60>"
            ]
          },
          "metadata": {
            "tags": []
          },
          "execution_count": 41
        }
      ]
    },
    {
      "cell_type": "code",
      "metadata": {
        "id": "h1FuduIa0RBh",
        "colab_type": "code",
        "outputId": "0575f71e-14b4-48df-82bb-2feb4315c4c6",
        "colab": {
          "base_uri": "https://localhost:8080/",
          "height": 51
        }
      },
      "source": [
        "accuracy = model.evaluate(x_test, y_test, verbose=1)\n",
        "print (accuracy[1])"
      ],
      "execution_count": 0,
      "outputs": [
        {
          "output_type": "stream",
          "text": [
            "16532/16532 [==============================] - 7s 407us/step\n",
            "0.7011855840682983\n"
          ],
          "name": "stdout"
        }
      ]
    },
    {
      "cell_type": "markdown",
      "metadata": {
        "id": "ldUwEfADQqhH",
        "colab_type": "text"
      },
      "source": [
        "# Data Visualization"
      ]
    },
    {
      "cell_type": "code",
      "metadata": {
        "id": "nzNjBA7ANrtt",
        "colab_type": "code",
        "outputId": "6b8b5f4f-494a-4602-b6b4-319cc492b1dc",
        "colab": {
          "base_uri": "https://localhost:8080/",
          "height": 465
        }
      },
      "source": [
        "plt.figure(figsize = (20, 5))\n",
        "plt.title(\"Wine_distribution\")\n",
        "data.variety.value_counts().plot.bar();"
      ],
      "execution_count": 0,
      "outputs": [
        {
          "output_type": "display_data",
          "data": {
            "image/png": "[encoded data removed]",
            "text/plain": [
              "<Figure size 1440x360 with 1 Axes>"
            ]
          },
          "metadata": {
            "tags": [],
            "needs_background": "light"
          }
        }
      ]
    },
    {
      "cell_type": "code",
      "metadata": {
        "id": "d3DQ5I5ZQ00n",
        "colab_type": "code",
        "colab": {}
      },
      "source": [
        ""
      ],
      "execution_count": 0,
      "outputs": []
    }
  ]
}